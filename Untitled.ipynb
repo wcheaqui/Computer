{
 "cells": [
  {
   "cell_type": "code",
   "execution_count": 1,
   "id": "1f3d2430",
   "metadata": {},
   "outputs": [],
   "source": [
    "from Comms import speak, listen, send_emails, chatgpt, test_chat_gpt\n"
   ]
  },
  {
   "cell_type": "code",
   "execution_count": 10,
   "id": "cb128a6c",
   "metadata": {},
   "outputs": [
    {
     "name": "stdout",
     "output_type": "stream",
     "text": [
      "<class 'str'>\n",
      "I am researching \n",
      "\" Will: \n",
      "    \" Will: \n",
      "    how to make breaded fried chicken out of chicken breast with an air fryer\n",
      "    give me the recipe\n",
      "\n",
      ": Jarvis:\n",
      "    Breaded Fried Chicken with Air Fryer\n",
      "\n",
      "Ingredients:\n",
      "\n",
      "- 2 chicken breasts, cut into strips\n",
      "- 2 eggs, beaten\n",
      "- 1 cup all-purpose flour\n",
      "- 1 teaspoon garlic powder\n",
      "- 1 teaspoon onion powder\n",
      "- 1 teaspoon paprika\n",
      "- 1 teaspoon salt\n",
      "- ½ teaspoon ground black pepper\n",
      "- 1 cup bread crumbs\n",
      "\n",
      "Instructions:\n",
      "\n",
      "1. Preheat your air fryer to the high setting.\n",
      "\n",
      "2. In a shallow bowl, beat the eggs.\n",
      "\n",
      "3. In a separate bowl, mix together the flour, garlic powder, onion powder, paprika, salt, and pepper.\n",
      "\n",
      "4. Place the chicken strips into the egg, then into the flour mixture. Make sure to coat the chicken evenly.\n",
      "\n",
      "5. Place the chicken into the preheated air fryer\n",
      "\n",
      "6. Cook the chicken for 10 minutes, or until it is cooked through.\n",
      "\n",
      "7. In a separate bowl, mix together the bread crumbs.\n",
      "\n",
      "8. Remove the chicken from the air fryer and dip each piece into the bread crumb mixture.\n",
      "\n",
      "9. Place the chicken back into the air fryer and cook for an additional 5 minutes, or until it is golden brown.\n",
      "\n",
      "10. Serve the chicken with your favorite dipping sauce. Enjoy!\"\n",
      "what should I set the temperature for the air fryer? Give me a specific temerature\n",
      ": Jarvis: \"\n",
      "Researching now\n",
      "The optimal temperature for air frying chicken is 390°F (199°C).\n"
     ]
    },
    {
     "data": {
      "text/plain": [
       "'The optimal temperature for air frying chicken is 390°F (199°C).'"
      ]
     },
     "execution_count": 10,
     "metadata": {},
     "output_type": "execute_result"
    }
   ],
   "source": [
    "test_chat_gpt(\"\"\"\n",
    "    \" Will: \n",
    "    how to make breaded fried chicken out of chicken breast with an air fryer\n",
    "    give me the recipe\n",
    "\n",
    ": Jarvis:\n",
    "    Breaded Fried Chicken with Air Fryer\n",
    "\n",
    "Ingredients:\n",
    "\n",
    "- 2 chicken breasts, cut into strips\n",
    "- 2 eggs, beaten\n",
    "- 1 cup all-purpose flour\n",
    "- 1 teaspoon garlic powder\n",
    "- 1 teaspoon onion powder\n",
    "- 1 teaspoon paprika\n",
    "- 1 teaspoon salt\n",
    "- ½ teaspoon ground black pepper\n",
    "- 1 cup bread crumbs\n",
    "\n",
    "Instructions:\n",
    "\n",
    "1. Preheat your air fryer to the high setting.\n",
    "\n",
    "2. In a shallow bowl, beat the eggs.\n",
    "\n",
    "3. In a separate bowl, mix together the flour, garlic powder, onion powder, paprika, salt, and pepper.\n",
    "\n",
    "4. Place the chicken strips into the egg, then into the flour mixture. Make sure to coat the chicken evenly.\n",
    "\n",
    "5. Place the chicken into the preheated air fryer\n",
    "\n",
    "6. Cook the chicken for 10 minutes, or until it is cooked through.\n",
    "\n",
    "7. In a separate bowl, mix together the bread crumbs.\n",
    "\n",
    "8. Remove the chicken from the air fryer and dip each piece into the bread crumb mixture.\n",
    "\n",
    "9. Place the chicken back into the air fryer and cook for an additional 5 minutes, or until it is golden brown.\n",
    "\n",
    "10. Serve the chicken with your favorite dipping sauce. Enjoy!\"\n",
    "what should I set the temperature for the air fryer? Give me a specific temerature\n",
    "\"\"\")"
   ]
  },
  {
   "cell_type": "code",
   "execution_count": 21,
   "id": "3a86c4a5",
   "metadata": {},
   "outputs": [
    {
     "name": "stdout",
     "output_type": "stream",
     "text": [
      "<class 'str'>\n",
      "I am researching \n",
      "\" Will: \n",
      "how to make air fried zuchini and bell peppers\n",
      ": Jarvis: \"\n",
      "Researching now\n",
      "1. Preheat your air fryer to 375°F.\n",
      "\n",
      "2. Slice the zucchini and bell peppers into thin strips. \n",
      "\n",
      "3. Place the strips in a large bowl and season with olive oil, garlic powder, salt, and pepper. Toss to coat.\n",
      "\n",
      "4. Place the zucchini and bell peppers in the air fryer basket in a single layer. \n",
      "\n",
      "5. Cook for 10 minutes, flipping halfway through. \n",
      "\n",
      "6. Check for doneness and cook for an additional few minutes, if necessary. \n",
      "\n",
      "7. Enjoy!\n"
     ]
    },
    {
     "data": {
      "text/plain": [
       "'1. Preheat your air fryer to 375°F.\\n\\n2. Slice the zucchini and bell peppers into thin strips. \\n\\n3. Place the strips in a large bowl and season with olive oil, garlic powder, salt, and pepper. Toss to coat.\\n\\n4. Place the zucchini and bell peppers in the air fryer basket in a single layer. \\n\\n5. Cook for 10 minutes, flipping halfway through. \\n\\n6. Check for doneness and cook for an additional few minutes, if necessary. \\n\\n7. Enjoy!'"
      ]
     },
     "execution_count": 21,
     "metadata": {},
     "output_type": "execute_result"
    }
   ],
   "source": [
    "test_chat_gpt(\"\"\"\n",
    "how to make air fried zuchini and bell peppers\n",
    "\"\"\")"
   ]
  },
  {
   "cell_type": "code",
   "execution_count": 23,
   "id": "2ec4c4b2",
   "metadata": {},
   "outputs": [
    {
     "name": "stdout",
     "output_type": "stream",
     "text": [
      "<class 'str'>\n",
      "I am researching \n",
      "\" Will: \n",
      "how hot should oil be on top of the stove to fry chicken?\n",
      ": Jarvis: \"\n",
      "Researching now\n",
      "The oil should reach a temperature of 350°F (175°C) in order to fry chicken.\n"
     ]
    },
    {
     "data": {
      "text/plain": [
       "'The oil should reach a temperature of 350°F (175°C) in order to fry chicken.'"
      ]
     },
     "execution_count": 23,
     "metadata": {},
     "output_type": "execute_result"
    }
   ],
   "source": [
    "prompt = \"\"\"\n",
    "how hot should oil be on top of the stove to fry chicken?\n",
    "\"\"\"\n",
    "\n",
    "test_chat_gpt(prompt)"
   ]
  },
  {
   "cell_type": "code",
   "execution_count": null,
   "id": "45e56df2",
   "metadata": {},
   "outputs": [],
   "source": [
    "how hot should oil be on top of the stove to fry chicken?"
   ]
  }
 ],
 "metadata": {
  "kernelspec": {
   "display_name": "Python 3 (ipykernel)",
   "language": "python",
   "name": "python3"
  },
  "language_info": {
   "codemirror_mode": {
    "name": "ipython",
    "version": 3
   },
   "file_extension": ".py",
   "mimetype": "text/x-python",
   "name": "python",
   "nbconvert_exporter": "python",
   "pygments_lexer": "ipython3",
   "version": "3.11.2"
  }
 },
 "nbformat": 4,
 "nbformat_minor": 5
}
