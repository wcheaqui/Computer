{
 "cells": [
  {
   "cell_type": "code",
   "execution_count": 2,
   "id": "482a4aac",
   "metadata": {},
   "outputs": [],
   "source": [
    "from Comms import chatgpt"
   ]
  },
  {
   "cell_type": "code",
   "execution_count": 3,
   "id": "6701ec9a",
   "metadata": {},
   "outputs": [
    {
     "ename": "TypeError",
     "evalue": "chatgpt() missing 1 required positional argument: 'prompt'",
     "output_type": "error",
     "traceback": [
      "\u001b[0;31m---------------------------------------------------------------------------\u001b[0m",
      "\u001b[0;31mTypeError\u001b[0m                                 Traceback (most recent call last)",
      "Cell \u001b[0;32mIn[3], line 1\u001b[0m\n\u001b[0;32m----> 1\u001b[0m \u001b[43mchatgpt\u001b[49m\u001b[43m(\u001b[49m\u001b[43m)\u001b[49m\n",
      "\u001b[0;31mTypeError\u001b[0m: chatgpt() missing 1 required positional argument: 'prompt'"
     ]
    }
   ],
   "source": [
    "chatgpt()"
   ]
  },
  {
   "cell_type": "code",
   "execution_count": null,
   "id": "ea4776d8",
   "metadata": {},
   "outputs": [],
   "source": []
  }
 ],
 "metadata": {
  "kernelspec": {
   "display_name": "Python 3 (ipykernel)",
   "language": "python",
   "name": "python3"
  },
  "language_info": {
   "codemirror_mode": {
    "name": "ipython",
    "version": 3
   },
   "file_extension": ".py",
   "mimetype": "text/x-python",
   "name": "python",
   "nbconvert_exporter": "python",
   "pygments_lexer": "ipython3",
   "version": "3.11.2"
  }
 },
 "nbformat": 4,
 "nbformat_minor": 5
}
